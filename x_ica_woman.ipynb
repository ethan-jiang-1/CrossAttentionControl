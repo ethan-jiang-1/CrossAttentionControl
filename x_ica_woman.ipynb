{
 "cells": [
  {
   "cell_type": "code",
   "execution_count": null,
   "id": "f2e9bb8d-2050-4283-89b1-7ffe18a8475f",
   "metadata": {},
   "outputs": [],
   "source": [
    "from ca_inverse import load_models, prompt_token\n",
    "\n",
    "load_models()\n"
   ]
  },
  {
   "cell_type": "code",
   "execution_count": null,
   "id": "38221201-23c7-4760-bfb2-6aae227316b3",
   "metadata": {},
   "outputs": [],
   "source": [
    "prompt_token(\"a photo of a woman with blonde hair\", 2)"
   ]
  },
  {
   "cell_type": "code",
   "execution_count": null,
   "id": "05b63c1f-9bb6-4575-87ab-05663b8846f1",
   "metadata": {},
   "outputs": [],
   "source": [
    "#https://pixabay.com/photos/portrait-woman-model-face-6054910/\n",
    "from PIL import Image\n",
    "\n",
    "input_image = Image.open(\"portrait.png\")\n",
    "input_image"
   ]
  },
  {
   "cell_type": "code",
   "execution_count": null,
   "id": "66463f61-6dde-41d1-a77e-36280964c9be",
   "metadata": {
    "tags": []
   },
   "outputs": [],
   "source": [
    "from ca_inverse import inversestablediffusion\n",
    "from ca_inverse import stablediffusion\n",
    "\n",
    "gen_latents = inversestablediffusion(input_image, \"a photo of a woman with blonde hair\", \n",
    "                                     refine_iterations=5, \n",
    "                                     guidance_scale=4.0)"
   ]
  },
  {
   "cell_type": "code",
   "execution_count": null,
   "id": "2d29ee30-6f45-4bfb-9626-473460869b19",
   "metadata": {},
   "outputs": [],
   "source": [
    "stablediffusion(\"a photo of a woman with blonde hair\", \n",
    "                guidance_scale=4.0, \n",
    "                init_latents=gen_latents)"
   ]
  },
  {
   "cell_type": "code",
   "execution_count": null,
   "id": "b74f85fb-c13c-4467-80e5-abe5a832938b",
   "metadata": {},
   "outputs": [],
   "source": [
    "stablediffusion(\"a photo of a woman with blonde hair\", \n",
    "                \"a photo of a young man with short blonde hair\", \n",
    "                prompt_edit_spatial_end=0.9, \n",
    "                guidance_scale=4.0, \n",
    "                init_latents=gen_latents)"
   ]
  },
  {
   "cell_type": "code",
   "execution_count": null,
   "id": "c811556f-9707-44d1-b136-d190bdfdecba",
   "metadata": {},
   "outputs": [],
   "source": [
    "stablediffusion(\"a photo of a woman with blonde hair\", \n",
    "                \"a photo of a young man with long blonde hair and glasses\", \n",
    "                guidance_scale=4.0, \n",
    "                init_latents=gen_latents)"
   ]
  },
  {
   "cell_type": "code",
   "execution_count": null,
   "id": "ab4f5614-1327-40f7-ba96-9cef764f39e0",
   "metadata": {},
   "outputs": [],
   "source": [
    "stablediffusion(\"a photo of a woman with blonde hair\", \n",
    "                \"a photo of a woman with blonde hair, tanned skin\", \n",
    "                prompt_edit_spatial_end=0.9, \n",
    "                guidance_scale=4.0, \n",
    "                init_latents=gen_latents)"
   ]
  },
  {
   "cell_type": "code",
   "execution_count": null,
   "id": "d48a32e2-d32b-4cd7-a277-2c133f981100",
   "metadata": {},
   "outputs": [],
   "source": [
    "stablediffusion(\"a photo of a woman with blonde hair\", \n",
    "                \"a photo of a young woman with short blonde hair and earrings, smiling\", \n",
    "                prompt_edit_token_weights=[(14, -2.5)], \n",
    "                prompt_edit_spatial_end=0.9, \n",
    "                guidance_scale=4.0, \n",
    "                init_latents=gen_latents)"
   ]
  },
  {
   "cell_type": "code",
   "execution_count": null,
   "id": "e9779806-212a-4b21-abd7-1057b029af23",
   "metadata": {},
   "outputs": [],
   "source": [
    "stablediffusion(\"a photo of a woman with blonde hair\", \n",
    "                \"a photo of a young woman with brown hair, smiling\", \n",
    "                prompt_edit_token_weights=[(11, -2.5)], \n",
    "                guidance_scale=4.0, \n",
    "                init_latents=gen_latents)"
   ]
  },
  {
   "cell_type": "code",
   "execution_count": null,
   "id": "eee76816-9192-4c9e-b547-1fcdea42a719",
   "metadata": {},
   "outputs": [],
   "source": [
    "stablediffusion(\"a photo of a woman with blonde hair\", \n",
    "                \"a photo of a young woman with wavy black hair, smiling, raised eyebrows\", \n",
    "                prompt_edit_token_weights=[(12, -3), (14, -3)], \n",
    "                guidance_scale=4.0, \n",
    "                init_latents=gen_latents)"
   ]
  },
  {
   "cell_type": "code",
   "execution_count": null,
   "id": "050427ce-d8a1-493d-bc9c-da4b4c882ed4",
   "metadata": {},
   "outputs": [],
   "source": [
    "stablediffusion(\"a photo of a woman with blonde hair\", \n",
    "                \"a photo of a young woman with curly black hair, smiling, raised eyebrows\", \n",
    "                prompt_edit_token_weights=[(12, -2.5), (14, -3)], \n",
    "                init_latents=gen_latents, \n",
    "                guidance_scale=4.0)"
   ]
  },
  {
   "cell_type": "code",
   "execution_count": null,
   "id": "7918056e-a5b4-40ed-9b49-511b00caa5b8",
   "metadata": {},
   "outputs": [],
   "source": []
  }
 ],
 "metadata": {
  "kernelspec": {
   "display_name": "diffusers",
   "language": "python",
   "name": "diffusers"
  },
  "language_info": {
   "codemirror_mode": {
    "name": "ipython",
    "version": 3
   },
   "file_extension": ".py",
   "mimetype": "text/x-python",
   "name": "python",
   "nbconvert_exporter": "python",
   "pygments_lexer": "ipython3",
   "version": "3.10.4"
  }
 },
 "nbformat": 4,
 "nbformat_minor": 5
}
